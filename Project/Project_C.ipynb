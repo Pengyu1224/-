{
 "cells": [
  {
   "cell_type": "code",
   "execution_count": 1,
   "metadata": {},
   "outputs": [
    {
     "data": {
      "image/png": "[encoded data removed]",
      "text/plain": [
       "<Figure size 432x288 with 1 Axes>"
      ]
     },
     "metadata": {
      "needs_background": "light"
     },
     "output_type": "display_data"
    }
   ],
   "source": [
    "#####C项目：汽车产品聚类分析 工号：15785 姓名：彭宇 #####\n",
    "from sklearn.cluster import KMeans\n",
    "from sklearn import preprocessing\n",
    "import pandas as pd\n",
    "import numpy as np\n",
    "data = pd.read_csv('CarPrice_Assignment.csv')#载入数据\n",
    "train_x = data.drop(['car_ID','CarName'],axis=1)#去除无用数据列，提取所需数据列，创建训练数据集\n",
    "# 使用LabelEncoder将多个字段中的文本类型特征转化为数字\n",
    "from sklearn.preprocessing import LabelEncoder\n",
    "cols = ['fueltype','aspiration','doornumber','carbody','drivewheel','enginelocation','enginetype','cylindernumber','fuelsystem']#待转化字段\n",
    "le = LabelEncoder()\n",
    "for col in cols:\n",
    "    train_x[col] = le.fit_transform(train_x[col])\n",
    "# 将数据规范化到 [0,1] 空间\n",
    "min_max_scaler=preprocessing.MinMaxScaler()\n",
    "train_x=min_max_scaler.fit_transform(train_x)\n",
    "pd.DataFrame(train_x).to_csv('temp.csv', index=False)\n",
    "# 使用K-Means 手肘法：统计不同K取值的误差平方和，选取合适的K值\n",
    "import matplotlib.pyplot as plt\n",
    "sse = []\n",
    "for k in range(1, 50):\n",
    "\t# kmeans算法\n",
    "\tkmeans = KMeans(n_clusters=k)\n",
    "\tkmeans.fit(train_x)\n",
    "\t# 计算inertia簇内误差平方和\n",
    "\tsse.append(kmeans.inertia_)\n",
    "x = range(1, 50)\n",
    "plt.xlabel('K')\n",
    "plt.ylabel('SSE')\n",
    "plt.plot(x, sse, 'o-')\n",
    "plt.show()"
   ]
  },
  {
   "cell_type": "code",
   "execution_count": 2,
   "metadata": {},
   "outputs": [
    {
     "name": "stdout",
     "output_type": "stream",
     "text": [
      "     car_ID  symboling                   CarName fueltype aspiration  \\\n",
      "0         1          3        alfa-romero giulia      gas        std   \n",
      "1         2          3       alfa-romero stelvio      gas        std   \n",
      "2         3          1  alfa-romero Quadrifoglio      gas        std   \n",
      "3         4          2               audi 100 ls      gas        std   \n",
      "4         5          2                audi 100ls      gas        std   \n",
      "..      ...        ...                       ...      ...        ...   \n",
      "200     201         -1           volvo 145e (sw)      gas        std   \n",
      "201     202         -1               volvo 144ea      gas      turbo   \n",
      "202     203         -1               volvo 244dl      gas        std   \n",
      "203     204         -1                 volvo 246   diesel      turbo   \n",
      "204     205         -1               volvo 264gl      gas      turbo   \n",
      "\n",
      "    doornumber      carbody drivewheel enginelocation  wheelbase  ...  \\\n",
      "0          two  convertible        rwd          front       88.6  ...   \n",
      "1          two  convertible        rwd          front       88.6  ...   \n",
      "2          two    hatchback        rwd          front       94.5  ...   \n",
      "3         four        sedan        fwd          front       99.8  ...   \n",
      "4         four        sedan        4wd          front       99.4  ...   \n",
      "..         ...          ...        ...            ...        ...  ...   \n",
      "200       four        sedan        rwd          front      109.1  ...   \n",
      "201       four        sedan        rwd          front      109.1  ...   \n",
      "202       four        sedan        rwd          front      109.1  ...   \n",
      "203       four        sedan        rwd          front      109.1  ...   \n",
      "204       four        sedan        rwd          front      109.1  ...   \n",
      "\n",
      "     fuelsystem  boreratio  stroke  compressionratio horsepower peakrpm  \\\n",
      "0          mpfi       3.47    2.68               9.0        111    5000   \n",
      "1          mpfi       3.47    2.68               9.0        111    5000   \n",
      "2          mpfi       2.68    3.47               9.0        154    5000   \n",
      "3          mpfi       3.19    3.40              10.0        102    5500   \n",
      "4          mpfi       3.19    3.40               8.0        115    5500   \n",
      "..          ...        ...     ...               ...        ...     ...   \n",
      "200        mpfi       3.78    3.15               9.5        114    5400   \n",
      "201        mpfi       3.78    3.15               8.7        160    5300   \n",
      "202        mpfi       3.58    2.87               8.8        134    5500   \n",
      "203         idi       3.01    3.40              23.0        106    4800   \n",
      "204        mpfi       3.78    3.15               9.5        114    5400   \n",
      "\n",
      "     citympg highwaympg    price  聚类结果  \n",
      "0         21         27  13495.0     6  \n",
      "1         21         27  16500.0     6  \n",
      "2         19         26  16500.0     6  \n",
      "3         24         30  13950.0     5  \n",
      "4         18         22  17450.0     5  \n",
      "..       ...        ...      ...   ...  \n",
      "200       23         28  16845.0     2  \n",
      "201       19         25  19045.0     7  \n",
      "202       18         23  21485.0     2  \n",
      "203       26         27  22470.0     0  \n",
      "204       19         25  22625.0     7  \n",
      "\n",
      "[205 rows x 27 columns]\n"
     ]
    }
   ],
   "source": [
    "#由手肘法绘图可取K=10，使用KMeans聚类\n",
    "kmeans = KMeans(n_clusters=10)#尝试将数据分为10类\n",
    "kmeans.fit(train_x)\n",
    "predict_y = kmeans.predict(train_x)\n",
    "# 合并聚类结果，插入到原数据中\n",
    "result = pd.concat((data,pd.DataFrame(predict_y)),axis=1)\n",
    "result.rename({0:u'聚类结果'},axis=1,inplace=True)\n",
    "print(result)#打印聚类结果\n",
    "result.to_csv('CarPrice_Assignment_cluster_result.csv',index=False)# 将聚类结果导出到CSV文件中"
   ]
  },
  {
   "cell_type": "code",
   "execution_count": 3,
   "metadata": {},
   "outputs": [
    {
     "name": "stdout",
     "output_type": "stream",
     "text": [
      "vokswagen rabbit 的竞争车型有：mazda glc deluxe, mazda rx-7 gs, nissan gt-r, toyota corona, toyota corolla, volkswagen model 111, volkswagen super beetle, volkswagen rabbit custom\n",
      "\n",
      "\n",
      "volkswagen 1131 deluxe sedan 的竞争车型有：chevrolet impala, chevrolet monte carlo, dodge rampage, dodge challenger se, honda civic, honda civic cvcc, honda civic, honda accord cvcc, honda civic cvcc, honda accord, honda civic 1300, honda civic (auto), isuzu D-Max , maxda rx3, maxda glc deluxe, mazda rx2 coupe, mazda 626, mazda glc custom, mitsubishi mirage, mitsubishi lancer, mitsubishi outlander, mitsubishi g4, Nissan versa, nissan rogue, nissan leaf, nissan juke, nissan clipper, plymouth fury iii, subaru, subaru dl, subaru dl, toyota corona mark ii, toyota corona, toyota corolla liftback, toyota corona\n",
      "\n",
      "\n",
      "volkswagen model 111 的竞争车型有：mazda glc deluxe, mazda rx-7 gs, nissan gt-r, toyota corona, toyota corolla, vokswagen rabbit, volkswagen super beetle, volkswagen rabbit custom\n",
      "\n",
      "\n",
      "volkswagen type 3 的竞争车型有：audi 100 ls, audi 100ls, audi 100ls, audi 5000, bmw 320i, honda civic, mitsubishi mirage g4, nissan dayz, nissan fuga, nissan otti, renault 12tl, saab 99le, saab 99gle, subaru baja, subaru tribeca, toyota corolla, toyota corona, toyota corolla, toyota mark ii, volkswagen 411 (sw), volkswagen dasher, volkswagen rabbit, volkswagen dasher\n",
      "\n",
      "\n",
      "volkswagen 411 (sw) 的竞争车型有：audi 100 ls, audi 100ls, audi 100ls, audi 5000, bmw 320i, honda civic, mitsubishi mirage g4, nissan dayz, nissan fuga, nissan otti, renault 12tl, saab 99le, saab 99gle, subaru baja, subaru tribeca, toyota corolla, toyota corona, toyota corolla, toyota mark ii, volkswagen type 3, volkswagen dasher, volkswagen rabbit, volkswagen dasher\n",
      "\n",
      "\n",
      "volkswagen super beetle 的竞争车型有：mazda glc deluxe, mazda rx-7 gs, nissan gt-r, toyota corona, toyota corolla, vokswagen rabbit, volkswagen model 111, volkswagen rabbit custom\n",
      "\n",
      "\n",
      "volkswagen dasher 的竞争车型有：audi 100 ls, audi 100ls, audi 100ls, audi 5000, bmw 320i, honda civic, mitsubishi mirage g4, nissan dayz, nissan fuga, nissan otti, renault 12tl, saab 99le, saab 99gle, subaru baja, subaru tribeca, toyota corolla, toyota corona, toyota corolla, toyota mark ii, volkswagen type 3, volkswagen 411 (sw), volkswagen rabbit\n",
      "\n",
      "\n",
      "vw dasher 的竞争车型有：alfa-romero giulia, alfa-romero stelvio, alfa-romero Quadrifoglio, audi fox, bmw 320i, bmw x1, isuzu D-Max , mazda 626, mazda glc, mazda rx-7 gs, mazda glc 4, nissan teana, nissan clipper, porsche macan, porcshce panamera, porsche cayenne, porsche boxter, renault 5 gtl, saab 99e, saab 99le, toyota celica gt liftback, toyota corolla tercel, toyota corona liftback, toyota corolla, toyota starlet, toyota tercel, toyota corolla, toyota cressida, toyota corolla liftback, toyota corona, vw rabbit\n",
      "\n",
      "\n",
      "vw rabbit 的竞争车型有：alfa-romero giulia, alfa-romero stelvio, alfa-romero Quadrifoglio, audi fox, bmw 320i, bmw x1, isuzu D-Max , mazda 626, mazda glc, mazda rx-7 gs, mazda glc 4, nissan teana, nissan clipper, porsche macan, porcshce panamera, porsche cayenne, porsche boxter, renault 5 gtl, saab 99e, saab 99le, toyota celica gt liftback, toyota corolla tercel, toyota corona liftback, toyota corolla, toyota starlet, toyota tercel, toyota corolla, toyota cressida, toyota corolla liftback, toyota corona, vw dasher\n",
      "\n",
      "\n",
      "volkswagen rabbit 的竞争车型有：audi 100 ls, audi 100ls, audi 100ls, audi 5000, bmw 320i, honda civic, mitsubishi mirage g4, nissan dayz, nissan fuga, nissan otti, renault 12tl, saab 99le, saab 99gle, subaru baja, subaru tribeca, toyota corolla, toyota corona, toyota corolla, toyota mark ii, volkswagen type 3, volkswagen 411 (sw), volkswagen dasher, volkswagen dasher\n",
      "\n",
      "\n",
      "volkswagen rabbit custom 的竞争车型有：mazda glc deluxe, mazda rx-7 gs, nissan gt-r, toyota corona, toyota corolla, vokswagen rabbit, volkswagen model 111, volkswagen super beetle\n",
      "\n",
      "\n"
     ]
    }
   ],
   "source": [
    "#找出所有VW车型对应的竞品车型\n",
    "#所有VW车型名称\n",
    "VW=['vokswagen rabbit','volkswagen 1131 deluxe sedan','volkswagen model 111','volkswagen type 3','volkswagen 411 (sw)','volkswagen super beetle','volkswagen dasher','vw dasher','vw rabbit','volkswagen rabbit','volkswagen rabbit custom']\n",
    "#提取与VW车型相同聚类的所有车型\n",
    "for vw in VW:\n",
    "\tGroup_num = result[result['CarName'].isin([vw])]['聚类结果'].tolist()#提取VW车型对应的聚类结果编号\n",
    "\tRivals = result.loc[result['聚类结果']==int(Group_num[0])]['CarName']#提取与VW车型相同聚类结果的车型竞品名称\n",
    "\tRival_list=[]\n",
    "\tfor r in Rivals:\n",
    "\t\tif r != vw:#去除竞品车型列表中与自身车型重复的名称\n",
    "\t\t\tRival_list.append(r)\n",
    "\tRival_string = ', '.join(Rival_list)#以逗号分隔竞品车型名称列表并转化为字符串\n",
    "\tprint(str(vw)+' 的竞争车型有：'+Rival_string+'\\n\\n')#打印各VW车型对应竞品车型名称"
   ]
  },
  {
   "cell_type": "code",
   "execution_count": null,
   "metadata": {},
   "outputs": [],
   "source": []
  }
 ],
 "metadata": {
  "kernelspec": {
   "display_name": "Python 3",
   "language": "python",
   "name": "python3"
  },
  "language_info": {
   "codemirror_mode": {
    "name": "ipython",
    "version": 3
   },
   "file_extension": ".py",
   "mimetype": "text/x-python",
   "name": "python",
   "nbconvert_exporter": "python",
   "pygments_lexer": "ipython3",
   "version": "3.7.6"
  }
 },
 "nbformat": 4,
 "nbformat_minor": 4
}
